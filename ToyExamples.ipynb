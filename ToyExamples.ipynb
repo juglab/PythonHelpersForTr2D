{
 "cells": [
  {
   "cell_type": "code",
   "execution_count": 1,
   "metadata": {},
   "outputs": [],
   "source": [
    "import numpy as np\n",
    "from ellipse import Ellipse\n",
    "from frame import Frame\n",
    "from scene import Scene\n",
    "import tifffile as tiff\n",
    "\n",
    "%load_ext autoreload\n",
    "%autoreload 2"
   ]
  },
  {
   "cell_type": "code",
   "execution_count": 2,
   "metadata": {},
   "outputs": [],
   "source": [
    "def case_3_2():\n",
    "    scene = Scene()\n",
    "    frame = Frame()\n",
    "    frame.add_ellipse(Ellipse((50,100),(18,18),0))\n",
    "    frame.add_ellipse(Ellipse((75,300),(9,9),0))\n",
    "    scene.add_frame(frame)\n",
    "    \n",
    "    frame2 = Frame()\n",
    "    frame2.ellipses = []\n",
    "    frame2.add_ellipse(Ellipse((175,97),(8,8),0))\n",
    "    frame2.add_ellipse(Ellipse((175,113),(8,8),0))\n",
    "    frame2.add_ellipse(Ellipse((210,145),(9,9),0))\n",
    "    scene.add_frame(frame2)\n",
    "    \n",
    "    frame3 = Frame()\n",
    "    frame3.ellipses = []\n",
    "    frame3.add_ellipse(Ellipse((277,75),(8,8),0))\n",
    "    frame3.add_ellipse(Ellipse((300,90),(9,9),0))\n",
    "    scene.add_frame(frame3)\n",
    "    return scene"
   ]
  },
  {
   "cell_type": "code",
   "execution_count": 3,
   "metadata": {},
   "outputs": [
    {
     "name": "stdout",
     "output_type": "stream",
     "text": [
      "0 3 [<frame.Frame object at 0x1162ede80>, <frame.Frame object at 0x1162edf60>, <frame.Frame object at 0x1162ede10>]\n"
     ]
    }
   ],
   "source": [
    "scene = case_3_2()\n",
    "scene.render((0,0,0), (3,300,300), \"/Users/prakash/Desktop/GeneratedExamples/scene3_full2.tif\")\n",
    "#scene.render((0,50,50),(2,30,30), \"scene1_subset.tif\")"
   ]
  },
  {
   "cell_type": "code",
   "execution_count": 2,
   "metadata": {},
   "outputs": [],
   "source": [
    "def case_3_1():\n",
    "    scene = Scene()\n",
    "    frame = Frame()\n",
    "    frame.add_ellipse(Ellipse((50,100),(18,18),0))\n",
    "    frame.add_ellipse(Ellipse((75,300),(9,9),0))\n",
    "    scene.add_frame(frame)\n",
    "    \n",
    "    frame2 = Frame()\n",
    "    frame2.ellipses = []\n",
    "    frame2.add_ellipse(Ellipse((175,105),(18,18),0))\n",
    "    frame2.add_ellipse(Ellipse((210,145),(9,9),0))\n",
    "    scene.add_frame(frame2)\n",
    "    \n",
    "    frame3 = Frame()\n",
    "    frame3.ellipses = []\n",
    "    frame3.add_ellipse(Ellipse((277,75),(8,8),0))\n",
    "    frame3.add_ellipse(Ellipse((300,90),(9,9),0))\n",
    "    scene.add_frame(frame3)\n",
    "    return scene"
   ]
  },
  {
   "cell_type": "code",
   "execution_count": 3,
   "metadata": {},
   "outputs": [
    {
     "name": "stdout",
     "output_type": "stream",
     "text": [
      "0 3 [<frame.Frame object at 0x11283edd8>, <frame.Frame object at 0x11283ee80>, <frame.Frame object at 0x11283ef28>]\n"
     ]
    }
   ],
   "source": [
    "scene = case_3_1()\n",
    "scene.render((0,0,0), (3,300,300), \"/Users/prakash/Desktop/GeneratedExamples/scene3_full.tif\")\n",
    "#scene.render((0,50,50),(2,30,30), \"scene1_subset.tif\")"
   ]
  },
  {
   "cell_type": "code",
   "execution_count": 2,
   "metadata": {},
   "outputs": [],
   "source": [
    "def case_2():\n",
    "    scene = Scene()\n",
    "    frame = Frame()\n",
    "    frame.add_ellipse(Ellipse((50,100),(8,8),0))\n",
    "    frame.add_ellipse(Ellipse((50,250),(5,5),0))\n",
    "    scene.add_frame(frame)\n",
    "    \n",
    "    frame2 = Frame()\n",
    "    frame2.ellipses = []\n",
    "    frame2.add_ellipse(Ellipse((175,80),(3,3),0))\n",
    "    frame2.add_ellipse(Ellipse((185,170),(5,5),0))\n",
    "    frame2.add_ellipse(Ellipse((170,220),(5,5),0))\n",
    "    scene.add_frame(frame2)\n",
    "    \n",
    "    frame3 = frame2.clone()\n",
    "    frame3.ellipses[0].move(85,60)\n",
    "    frame3.ellipses[1].move(100,25)\n",
    "    frame3.ellipses[2].move(90,-13)\n",
    "    scene.add_frame(frame3)\n",
    "    return scene"
   ]
  },
  {
   "cell_type": "code",
   "execution_count": 3,
   "metadata": {},
   "outputs": [
    {
     "name": "stdout",
     "output_type": "stream",
     "text": [
      "0 3 [<frame.Frame object at 0x109d78cf8>, <frame.Frame object at 0x109d78da0>, <frame.Frame object at 0x109d78f28>]\n"
     ]
    }
   ],
   "source": [
    "scene = case_2()\n",
    "scene.render((0,0,0), (3,300,300), \"/Users/prakash/Desktop/GeneratedExamples/scene2_full.tif\")\n",
    "#scene.render((0,50,50),(2,30,30), \"scene1_subset.tif\")"
   ]
  },
  {
   "cell_type": "code",
   "execution_count": 2,
   "metadata": {},
   "outputs": [],
   "source": [
    "def case_1():\n",
    "    scene = Scene()\n",
    "    frame = Frame()\n",
    "    frame.add_ellipse(Ellipse((50,50),(12,12),0))\n",
    "    frame.add_ellipse(Ellipse((50,250),(12,12),0))\n",
    "    scene.add_frame(frame)\n",
    "    \n",
    "    frame2 = frame.clone()\n",
    "    frame2.ellipses[0].move(105,87)\n",
    "    frame2.ellipses[1].move(105,-87)\n",
    "    scene.add_frame(frame2)\n",
    "    \n",
    "    frame3 = frame2.clone()\n",
    "    frame3.ellipses[0].move(105,-87)\n",
    "    frame3.ellipses[1].move(105,87)\n",
    "    scene.add_frame(frame3)\n",
    "    return scene"
   ]
  },
  {
   "cell_type": "code",
   "execution_count": 3,
   "metadata": {},
   "outputs": [
    {
     "name": "stdout",
     "output_type": "stream",
     "text": [
      "0 3 [<frame.Frame object at 0x105c96e48>, <frame.Frame object at 0x105c96da0>, <frame.Frame object at 0x105c96eb8>]\n"
     ]
    }
   ],
   "source": [
    "scene = case_1()\n",
    "scene.render((0,0,0), (3,300,300), \"/Users/prakash/Desktop/GeneratedExamples/scene1_full.tif\")\n",
    "#scene.render((0,50,50),(2,30,30), \"scene1_subset.tif\")"
   ]
  },
  {
   "cell_type": "code",
   "execution_count": null,
   "metadata": {},
   "outputs": [],
   "source": []
  }
 ],
 "metadata": {
  "kernelspec": {
   "display_name": "Python [default]",
   "language": "python",
   "name": "python3"
  },
  "language_info": {
   "codemirror_mode": {
    "name": "ipython",
    "version": 3
   },
   "file_extension": ".py",
   "mimetype": "text/x-python",
   "name": "python",
   "nbconvert_exporter": "python",
   "pygments_lexer": "ipython3",
   "version": "3.5.5"
  }
 },
 "nbformat": 4,
 "nbformat_minor": 2
}
