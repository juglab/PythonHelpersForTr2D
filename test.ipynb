{
 "cells": [
  {
   "cell_type": "code",
   "execution_count": 1,
   "metadata": {},
   "outputs": [],
   "source": [
    "import numpy as np\n",
    "from ellipse import Ellipse\n",
    "from frame import Frame\n",
    "from scene import Scene\n",
    "import tifffile as tiff\n",
    "\n",
    "%load_ext autoreload\n",
    "%autoreload 2"
   ]
  },
  {
   "cell_type": "code",
   "execution_count": 2,
   "metadata": {},
   "outputs": [
    {
     "data": {
      "text/plain": [
       "'/Users/prakash/anaconda/envs/OCVTempMatch/bin/python'"
      ]
     },
     "execution_count": 2,
     "metadata": {},
     "output_type": "execute_result"
    }
   ],
   "source": [
    "import sys\n",
    "sys.executable"
   ]
  },
  {
   "cell_type": "code",
   "execution_count": 3,
   "metadata": {
    "collapsed": true
   },
   "outputs": [],
   "source": [
    "def test_scene_2():\n",
    "    scene = Scene()\n",
    "    frame = Frame()\n",
    "    frame.add_ellipse(Ellipse((50,50),(12,12),0))\n",
    "    frame.add_ellipse(Ellipse((50,250),(12,12),0))\n",
    "    scene.add_frame(frame)\n",
    "    \n",
    "    frame2 = frame.clone()\n",
    "    count = 0\n",
    "    for e in frame2.ellipses:\n",
    "        count = count+ 1\n",
    "        if count ==1:\n",
    "            e.move(105,87)\n",
    "        else:\n",
    "            e.move(105,-87)\n",
    "    scene.add_frame(frame2)\n",
    "    \n",
    "    frame3 = frame2.clone()\n",
    "    scene.add_frame(frame)\n",
    "    #much larger!!!\n",
    "        \n",
    "    return scene"
   ]
  },
  {
   "cell_type": "code",
   "execution_count": 4,
   "metadata": {},
   "outputs": [
    {
     "name": "stdout",
     "output_type": "stream",
     "text": [
      "0 3 [<frame.Frame object at 0x1172323c8>, <frame.Frame object at 0x117232470>, <frame.Frame object at 0x1172324a8>]\n"
     ]
    }
   ],
   "source": [
    "scene = test_scene_2()\n",
    "scene.render((0,0,0), (3,300,300), \"scene1_full.tif\")\n",
    "#scene.render((0,50,50),(2,30,30), \"scene1_subset.tif\")"
   ]
  },
  {
   "cell_type": "code",
   "execution_count": 2,
   "metadata": {
    "collapsed": true
   },
   "outputs": [],
   "source": [
    "def test_scene_1():\n",
    "    scene = Scene()\n",
    "    frame = Frame()\n",
    "    frame.add_ellipse( Ellipse((50,54),(12,30),45) )\n",
    "    frame.add_ellipse( Ellipse((100,80),(17,13),-45) )\n",
    "    scene.add_frame( frame )\n",
    "    \n",
    "    frame2 = frame.clone()\n",
    "    for e in frame2.ellipses:\n",
    "        e.move(100,100)\n",
    "    scene.add_frame( frame2 )\n",
    "    \n",
    "    return scene"
   ]
  },
  {
   "cell_type": "code",
   "execution_count": 3,
   "metadata": {},
   "outputs": [
    {
     "name": "stdout",
     "output_type": "stream",
     "text": [
      "0 2 [<frame.Frame object at 0x103657550>, <frame.Frame object at 0x1036576d8>]\n",
      "0 2 [<frame.Frame object at 0x103657550>, <frame.Frame object at 0x1036576d8>]\n"
     ]
    }
   ],
   "source": [
    "scene = test_scene_1()\n",
    "scene.render((0,0,0), (2,300,300), \"scene1_full.tif\")\n",
    "scene.render((0,50,50),(2,30,30), \"scene1_subset.tif\")"
   ]
  },
  {
   "cell_type": "code",
   "execution_count": 17,
   "metadata": {},
   "outputs": [
    {
     "name": "stdout",
     "output_type": "stream",
     "text": [
      "(0, 0)\n",
      "(0, 0)\n",
      "(<method-wrapper '__repr__' of list object at 0x111b02440>, <method-wrapper '__repr__' of list object at 0x113193518>)\n"
     ]
    }
   ],
   "source": [
    "import copy\n",
    "e = Ellipse((0,0),(10,10),45)\n",
    "f = copy.copy(e)\n",
    "l1 = [e]\n",
    "l2 = copy.deepcopy(l1)\n",
    "#l2[0].move(10,10)\n",
    "e.move(10,10)\n",
    "\n",
    "print(f.center)\n",
    "print(l2[0].center)\n",
    "print(l1.__repr__,l2.__repr__)"
   ]
  },
  {
   "cell_type": "code",
   "execution_count": 12,
   "metadata": {},
   "outputs": [
    {
     "data": {
      "text/plain": [
       "(50, 50)"
      ]
     },
     "execution_count": 12,
     "metadata": {},
     "output_type": "execute_result"
    }
   ],
   "source": [
    "position = (0,50,50)\n",
    "position[1:]"
   ]
  },
  {
   "cell_type": "code",
   "execution_count": null,
   "metadata": {
    "collapsed": true
   },
   "outputs": [],
   "source": []
  }
 ],
 "metadata": {
  "kernelspec": {
   "display_name": "Python [default]",
   "language": "python",
   "name": "python3"
  },
  "language_info": {
   "codemirror_mode": {
    "name": "ipython",
    "version": 3
   },
   "file_extension": ".py",
   "mimetype": "text/x-python",
   "name": "python",
   "nbconvert_exporter": "python",
   "pygments_lexer": "ipython3",
   "version": "3.5.5"
  }
 },
 "nbformat": 4,
 "nbformat_minor": 2
}
