{
 "cells": [
  {
   "cell_type": "code",
   "execution_count": 66,
   "metadata": {
    "collapsed": true
   },
   "outputs": [],
   "source": [
    "from PIL import Image\n",
    "import numpy as np\n",
    "import cv2 as cv\n",
    "import matplotlib.pyplot as plt\n",
    "import matplotlib.cm as cm\n",
    "from PIL import Image\n",
    "import skimage.io"
   ]
  },
  {
   "cell_type": "code",
   "execution_count": 78,
   "metadata": {},
   "outputs": [
    {
     "data": {
      "image/png": "[encoded data removed]",
      "text/plain": [
       "<matplotlib.figure.Figure at 0x119f7ccc0>"
      ]
     },
     "metadata": {},
     "output_type": "display_data"
    }
   ],
   "source": [
    "img = np.zeros((400,400), np.uint8)\n",
    "cx,cy = 113,155\n",
    "ax1,ax2 =  37,27\n",
    "angle = -108\n",
    "center = (cx,cy)\n",
    "axes = (ax1,ax2)\n",
    "cv.ellipse(img, center, axes, angle, start_angle, end_angle, 255, -1)\n",
    "plt.imshow(img, cmap='gray')\n",
    "plt.show()\n",
    "skimage.io.imsave('/Users/prakash/Desktop/result.tif',img)\n",
    "#cv.ellipse(img, (int(113), int(155)), (int(23), int(15)), 0.0, 0.0, 360.0, (255, 255, 255), -1);"
   ]
  },
  {
   "cell_type": "code",
   "execution_count": null,
   "metadata": {
    "collapsed": true
   },
   "outputs": [],
   "source": [
    "\n",
    "draw_and_save_ellipse(image, center, axes, angle):\n",
    "    \"\"\"Draws ellipse mask with specified parameters and saves image as tiff\n",
    "    \"\"\"\n",
    "    cv.ellipse(image, center, axes, angle, 0, 360, 255, -1)\n",
    "    skimage.io.imsave('/Users/prakash/Desktop/result.tif',img)"
   ]
  },
  {
   "cell_type": "code",
   "execution_count": null,
   "metadata": {
    "collapsed": true
   },
   "outputs": [],
   "source": []
  },
  {
   "cell_type": "code",
   "execution_count": null,
   "metadata": {
    "collapsed": true
   },
   "outputs": [],
   "source": []
  }
 ],
 "metadata": {
  "kernelspec": {
   "display_name": "Python 3",
   "language": "python",
   "name": "python3"
  },
  "language_info": {
   "codemirror_mode": {
    "name": "ipython",
    "version": 3
   },
   "file_extension": ".py",
   "mimetype": "text/x-python",
   "name": "python",
   "nbconvert_exporter": "python",
   "pygments_lexer": "ipython3",
   "version": "3.6.1"
  }
 },
 "nbformat": 4,
 "nbformat_minor": 2
}
